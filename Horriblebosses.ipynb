{
    "cells": [
        {
            "cell_type": "code",
            "execution_count": 2,
            "source": [
                "import pandas as pd"
            ],
            "outputs": [],
            "metadata": {}
        },
        {
            "cell_type": "code",
            "execution_count": 3,
            "source": [
                "# Imports\n",
                "import snscrape.modules.twitter as sntwitter\n",
                "import pandas as pd"
            ],
            "outputs": [],
            "metadata": {}
        },
        {
            "cell_type": "code",
            "execution_count": 4,
            "source": [
                "# Setting variables to be used below\n",
                "maxTweets = 500000\n",
                "\n",
                "# Creating list to append tweet data to\n",
                "tweets_list = []\n",
                "\n",
                "# Using TwitterSearchScraper to scrape data and append tweets to list\n",
                "for i,tweet in enumerate(sntwitter.TwitterSearchScraper('horribleBosses since:2022-03-21 until:2022-03-26').get_items()):\n",
                "    if i>maxTweets:\n",
                "        break\n",
                "    tweets_list.append([tweet.date, tweet.id, tweet.content, tweet.username])"
            ],
            "outputs": [],
            "metadata": {}
        },
        {
            "cell_type": "code",
            "execution_count": 5,
            "source": [
                " #Creating a dataframe from the tweets list above\n",
                "#\n",
                "df = pd.DataFrame(tweets_list, columns=['datetime', 'tweet_Id', 'text', 'Username'])\n",
                "\n",
                "# Display first 5 entries from dataframe\n",
                "df.head()"
            ],
            "outputs": [
                {
                    "output_type": "execute_result",
                    "data": {
                        "text/plain": [
                            "                   datetime             tweet_Id  \\\n",
                            "0 2022-03-25 23:54:03+00:00  1507506125511573509   \n",
                            "1 2022-03-25 23:47:40+00:00  1507504519713898500   \n",
                            "2 2022-03-25 23:33:42+00:00  1507501004841009154   \n",
                            "3 2022-03-25 22:08:31+00:00  1507479568986353665   \n",
                            "4 2022-03-25 22:00:21+00:00  1507477515757101057   \n",
                            "\n",
                            "                                                text         Username  \n",
                            "0  #HorribleBosses: Entertainers called out too h...  CelebrityGigMag  \n",
                            "1  #HorribleBosses VS #Annoyingemployees ..which ...       sheyyishay  \n",
                            "2  Since Super Eagles didn’t impress us tonight, ...       heisrahman  \n",
                            "3  #ethereum #XMR  #Bolckchain  @HorribleBosses h...    Bakarehorlami  \n",
                            "4  AZOV is synonymous with #HorribleBosses https:...    MyHeartlandia  "
                        ],
                        "text/html": [
                            "<div>\n",
                            "<style scoped>\n",
                            "    .dataframe tbody tr th:only-of-type {\n",
                            "        vertical-align: middle;\n",
                            "    }\n",
                            "\n",
                            "    .dataframe tbody tr th {\n",
                            "        vertical-align: top;\n",
                            "    }\n",
                            "\n",
                            "    .dataframe thead th {\n",
                            "        text-align: right;\n",
                            "    }\n",
                            "</style>\n",
                            "<table border=\"1\" class=\"dataframe\">\n",
                            "  <thead>\n",
                            "    <tr style=\"text-align: right;\">\n",
                            "      <th></th>\n",
                            "      <th>datetime</th>\n",
                            "      <th>tweet_Id</th>\n",
                            "      <th>text</th>\n",
                            "      <th>Username</th>\n",
                            "    </tr>\n",
                            "  </thead>\n",
                            "  <tbody>\n",
                            "    <tr>\n",
                            "      <th>0</th>\n",
                            "      <td>2022-03-25 23:54:03+00:00</td>\n",
                            "      <td>1507506125511573509</td>\n",
                            "      <td>#HorribleBosses: Entertainers called out too h...</td>\n",
                            "      <td>CelebrityGigMag</td>\n",
                            "    </tr>\n",
                            "    <tr>\n",
                            "      <th>1</th>\n",
                            "      <td>2022-03-25 23:47:40+00:00</td>\n",
                            "      <td>1507504519713898500</td>\n",
                            "      <td>#HorribleBosses VS #Annoyingemployees ..which ...</td>\n",
                            "      <td>sheyyishay</td>\n",
                            "    </tr>\n",
                            "    <tr>\n",
                            "      <th>2</th>\n",
                            "      <td>2022-03-25 23:33:42+00:00</td>\n",
                            "      <td>1507501004841009154</td>\n",
                            "      <td>Since Super Eagles didn’t impress us tonight, ...</td>\n",
                            "      <td>heisrahman</td>\n",
                            "    </tr>\n",
                            "    <tr>\n",
                            "      <th>3</th>\n",
                            "      <td>2022-03-25 22:08:31+00:00</td>\n",
                            "      <td>1507479568986353665</td>\n",
                            "      <td>#ethereum #XMR  #Bolckchain  @HorribleBosses h...</td>\n",
                            "      <td>Bakarehorlami</td>\n",
                            "    </tr>\n",
                            "    <tr>\n",
                            "      <th>4</th>\n",
                            "      <td>2022-03-25 22:00:21+00:00</td>\n",
                            "      <td>1507477515757101057</td>\n",
                            "      <td>AZOV is synonymous with #HorribleBosses https:...</td>\n",
                            "      <td>MyHeartlandia</td>\n",
                            "    </tr>\n",
                            "  </tbody>\n",
                            "</table>\n",
                            "</div>"
                        ]
                    },
                    "metadata": {},
                    "execution_count": 5
                }
            ],
            "metadata": {}
        },
        {
            "cell_type": "code",
            "execution_count": 8,
            "source": [
                "df.to_csv('tweets.csv')"
            ],
            "outputs": [],
            "metadata": {}
        },
        {
            "cell_type": "code",
            "execution_count": 9,
            "source": [
                "data =pd.read_csv('tweets.csv')"
            ],
            "outputs": [],
            "metadata": {}
        },
        {
            "cell_type": "code",
            "execution_count": 14,
            "source": [
                "data.shape"
            ],
            "outputs": [
                {
                    "output_type": "execute_result",
                    "data": {
                        "text/plain": [
                            "(14678, 5)"
                        ]
                    },
                    "metadata": {},
                    "execution_count": 14
                }
            ],
            "metadata": {}
        },
        {
            "cell_type": "code",
            "execution_count": 10,
            "source": [
                "data.head()"
            ],
            "outputs": [
                {
                    "output_type": "execute_result",
                    "data": {
                        "text/plain": [
                            "   Unnamed: 0                   datetime             tweet_Id  \\\n",
                            "0           0  2022-03-25 23:54:03+00:00  1507506125511573509   \n",
                            "1           1  2022-03-25 23:47:40+00:00  1507504519713898500   \n",
                            "2           2  2022-03-25 23:33:42+00:00  1507501004841009154   \n",
                            "3           3  2022-03-25 22:08:31+00:00  1507479568986353665   \n",
                            "4           4  2022-03-25 22:00:21+00:00  1507477515757101057   \n",
                            "\n",
                            "                                                text         Username  \n",
                            "0  #HorribleBosses: Entertainers called out too h...  CelebrityGigMag  \n",
                            "1  #HorribleBosses VS #Annoyingemployees ..which ...       sheyyishay  \n",
                            "2  Since Super Eagles didn’t impress us tonight, ...       heisrahman  \n",
                            "3  #ethereum #XMR  #Bolckchain  @HorribleBosses h...    Bakarehorlami  \n",
                            "4  AZOV is synonymous with #HorribleBosses https:...    MyHeartlandia  "
                        ],
                        "text/html": [
                            "<div>\n",
                            "<style scoped>\n",
                            "    .dataframe tbody tr th:only-of-type {\n",
                            "        vertical-align: middle;\n",
                            "    }\n",
                            "\n",
                            "    .dataframe tbody tr th {\n",
                            "        vertical-align: top;\n",
                            "    }\n",
                            "\n",
                            "    .dataframe thead th {\n",
                            "        text-align: right;\n",
                            "    }\n",
                            "</style>\n",
                            "<table border=\"1\" class=\"dataframe\">\n",
                            "  <thead>\n",
                            "    <tr style=\"text-align: right;\">\n",
                            "      <th></th>\n",
                            "      <th>Unnamed: 0</th>\n",
                            "      <th>datetime</th>\n",
                            "      <th>tweet_Id</th>\n",
                            "      <th>text</th>\n",
                            "      <th>Username</th>\n",
                            "    </tr>\n",
                            "  </thead>\n",
                            "  <tbody>\n",
                            "    <tr>\n",
                            "      <th>0</th>\n",
                            "      <td>0</td>\n",
                            "      <td>2022-03-25 23:54:03+00:00</td>\n",
                            "      <td>1507506125511573509</td>\n",
                            "      <td>#HorribleBosses: Entertainers called out too h...</td>\n",
                            "      <td>CelebrityGigMag</td>\n",
                            "    </tr>\n",
                            "    <tr>\n",
                            "      <th>1</th>\n",
                            "      <td>1</td>\n",
                            "      <td>2022-03-25 23:47:40+00:00</td>\n",
                            "      <td>1507504519713898500</td>\n",
                            "      <td>#HorribleBosses VS #Annoyingemployees ..which ...</td>\n",
                            "      <td>sheyyishay</td>\n",
                            "    </tr>\n",
                            "    <tr>\n",
                            "      <th>2</th>\n",
                            "      <td>2</td>\n",
                            "      <td>2022-03-25 23:33:42+00:00</td>\n",
                            "      <td>1507501004841009154</td>\n",
                            "      <td>Since Super Eagles didn’t impress us tonight, ...</td>\n",
                            "      <td>heisrahman</td>\n",
                            "    </tr>\n",
                            "    <tr>\n",
                            "      <th>3</th>\n",
                            "      <td>3</td>\n",
                            "      <td>2022-03-25 22:08:31+00:00</td>\n",
                            "      <td>1507479568986353665</td>\n",
                            "      <td>#ethereum #XMR  #Bolckchain  @HorribleBosses h...</td>\n",
                            "      <td>Bakarehorlami</td>\n",
                            "    </tr>\n",
                            "    <tr>\n",
                            "      <th>4</th>\n",
                            "      <td>4</td>\n",
                            "      <td>2022-03-25 22:00:21+00:00</td>\n",
                            "      <td>1507477515757101057</td>\n",
                            "      <td>AZOV is synonymous with #HorribleBosses https:...</td>\n",
                            "      <td>MyHeartlandia</td>\n",
                            "    </tr>\n",
                            "  </tbody>\n",
                            "</table>\n",
                            "</div>"
                        ]
                    },
                    "metadata": {},
                    "execution_count": 10
                }
            ],
            "metadata": {}
        },
        {
            "cell_type": "code",
            "execution_count": 11,
            "source": [
                "#checking for a retweet by checking if any tweet id is duplicated. \n",
                "data.tweet_Id.unique"
            ],
            "outputs": [
                {
                    "output_type": "execute_result",
                    "data": {
                        "text/plain": [
                            "<bound method Series.unique of 0        1507506125511573509\n",
                            "1        1507504519713898500\n",
                            "2        1507501004841009154\n",
                            "3        1507479568986353665\n",
                            "4        1507477515757101057\n",
                            "                ...         \n",
                            "14673    1505971585882148870\n",
                            "14674    1505971524544700419\n",
                            "14675    1505971521826824196\n",
                            "14676    1505965343533109254\n",
                            "14677    1505699666201128960\n",
                            "Name: tweet_Id, Length: 14678, dtype: int64>"
                        ]
                    },
                    "metadata": {},
                    "execution_count": 11
                }
            ],
            "metadata": {}
        },
        {
            "cell_type": "code",
            "execution_count": 22,
            "source": [
                "data.text[0:9]"
            ],
            "outputs": [
                {
                    "output_type": "execute_result",
                    "data": {
                        "text/plain": [
                            "0    #HorribleBosses: Entertainers called out too h...\n",
                            "1    #HorribleBosses VS #Annoyingemployees ..which ...\n",
                            "2    Since Super Eagles didn’t impress us tonight, ...\n",
                            "3    #ethereum #XMR  #Bolckchain  @HorribleBosses h...\n",
                            "4    AZOV is synonymous with #HorribleBosses https:...\n",
                            "5              #horriblebosses https://t.co/nicXngj8SH\n",
                            "6    So when are we having the Nigerian music indus...\n",
                            "7    Did they have a #BusinessProposal?\\nTurn it do...\n",
                            "8    #HorribleBosses: I was once signed to a label ...\n",
                            "Name: text, dtype: object"
                        ]
                    },
                    "metadata": {},
                    "execution_count": 22
                }
            ],
            "metadata": {}
        },
        {
            "cell_type": "code",
            "execution_count": 27,
            "source": [
                "import nltk\n",
                "nltk.download('punkt')\n",
                "nltk.download('wordnet')\n",
                "from nltk import sent_tokenize, word_tokenize\n",
                "from nltk.stem.snowball import SnowballStemmer\n",
                "from nltk.stem.wordnet import WordNetLemmatizer\n",
                "from nltk.corpus import stopwords\n",
                "import pandas as pd\n",
                "import numpy as np\n",
                "import re  \n",
                "import spacy\n",
                "from spacy import displacy\n",
                "from collections import Counter\n",
                "import en_core_web_sm\n",
                "nlp = en_core_web_sm.load()\n",
                "#nlp = spacy.load('en_core_web_lg')"
            ],
            "outputs": [
                {
                    "output_type": "stream",
                    "name": "stderr",
                    "text": [
                        "[nltk_data] Downloading package punkt to\n",
                        "[nltk_data]     /Users/davideffiong/nltk_data...\n",
                        "[nltk_data]   Package punkt is already up-to-date!\n",
                        "[nltk_data] Downloading package wordnet to\n",
                        "[nltk_data]     /Users/davideffiong/nltk_data...\n",
                        "[nltk_data]   Package wordnet is already up-to-date!\n"
                    ]
                }
            ],
            "metadata": {}
        },
        {
            "cell_type": "code",
            "execution_count": 28,
            "source": [
                "data.head()"
            ],
            "outputs": [
                {
                    "output_type": "execute_result",
                    "data": {
                        "text/plain": [
                            "   Unnamed: 0                   datetime             tweet_Id  \\\n",
                            "0           0  2022-03-25 23:54:03+00:00  1507506125511573509   \n",
                            "1           1  2022-03-25 23:47:40+00:00  1507504519713898500   \n",
                            "2           2  2022-03-25 23:33:42+00:00  1507501004841009154   \n",
                            "3           3  2022-03-25 22:08:31+00:00  1507479568986353665   \n",
                            "4           4  2022-03-25 22:00:21+00:00  1507477515757101057   \n",
                            "\n",
                            "                                                text         Username  \n",
                            "0  #HorribleBosses: Entertainers called out too h...  CelebrityGigMag  \n",
                            "1  #HorribleBosses VS #Annoyingemployees ..which ...       sheyyishay  \n",
                            "2  Since Super Eagles didn’t impress us tonight, ...       heisrahman  \n",
                            "3  #ethereum #XMR  #Bolckchain  @HorribleBosses h...    Bakarehorlami  \n",
                            "4  AZOV is synonymous with #HorribleBosses https:...    MyHeartlandia  "
                        ],
                        "text/html": [
                            "<div>\n",
                            "<style scoped>\n",
                            "    .dataframe tbody tr th:only-of-type {\n",
                            "        vertical-align: middle;\n",
                            "    }\n",
                            "\n",
                            "    .dataframe tbody tr th {\n",
                            "        vertical-align: top;\n",
                            "    }\n",
                            "\n",
                            "    .dataframe thead th {\n",
                            "        text-align: right;\n",
                            "    }\n",
                            "</style>\n",
                            "<table border=\"1\" class=\"dataframe\">\n",
                            "  <thead>\n",
                            "    <tr style=\"text-align: right;\">\n",
                            "      <th></th>\n",
                            "      <th>Unnamed: 0</th>\n",
                            "      <th>datetime</th>\n",
                            "      <th>tweet_Id</th>\n",
                            "      <th>text</th>\n",
                            "      <th>Username</th>\n",
                            "    </tr>\n",
                            "  </thead>\n",
                            "  <tbody>\n",
                            "    <tr>\n",
                            "      <th>0</th>\n",
                            "      <td>0</td>\n",
                            "      <td>2022-03-25 23:54:03+00:00</td>\n",
                            "      <td>1507506125511573509</td>\n",
                            "      <td>#HorribleBosses: Entertainers called out too h...</td>\n",
                            "      <td>CelebrityGigMag</td>\n",
                            "    </tr>\n",
                            "    <tr>\n",
                            "      <th>1</th>\n",
                            "      <td>1</td>\n",
                            "      <td>2022-03-25 23:47:40+00:00</td>\n",
                            "      <td>1507504519713898500</td>\n",
                            "      <td>#HorribleBosses VS #Annoyingemployees ..which ...</td>\n",
                            "      <td>sheyyishay</td>\n",
                            "    </tr>\n",
                            "    <tr>\n",
                            "      <th>2</th>\n",
                            "      <td>2</td>\n",
                            "      <td>2022-03-25 23:33:42+00:00</td>\n",
                            "      <td>1507501004841009154</td>\n",
                            "      <td>Since Super Eagles didn’t impress us tonight, ...</td>\n",
                            "      <td>heisrahman</td>\n",
                            "    </tr>\n",
                            "    <tr>\n",
                            "      <th>3</th>\n",
                            "      <td>3</td>\n",
                            "      <td>2022-03-25 22:08:31+00:00</td>\n",
                            "      <td>1507479568986353665</td>\n",
                            "      <td>#ethereum #XMR  #Bolckchain  @HorribleBosses h...</td>\n",
                            "      <td>Bakarehorlami</td>\n",
                            "    </tr>\n",
                            "    <tr>\n",
                            "      <th>4</th>\n",
                            "      <td>4</td>\n",
                            "      <td>2022-03-25 22:00:21+00:00</td>\n",
                            "      <td>1507477515757101057</td>\n",
                            "      <td>AZOV is synonymous with #HorribleBosses https:...</td>\n",
                            "      <td>MyHeartlandia</td>\n",
                            "    </tr>\n",
                            "  </tbody>\n",
                            "</table>\n",
                            "</div>"
                        ]
                    },
                    "metadata": {},
                    "execution_count": 28
                }
            ],
            "metadata": {}
        },
        {
            "cell_type": "code",
            "execution_count": 36,
            "source": [
                "dt=data.groupby('datetime').size()"
            ],
            "outputs": [],
            "metadata": {}
        },
        {
            "cell_type": "code",
            "execution_count": 41,
            "source": [
                "dt"
            ],
            "outputs": [
                {
                    "output_type": "execute_result",
                    "data": {
                        "text/plain": [
                            "datetime\n",
                            "2022-03-21 00:15:49+00:00    1\n",
                            "2022-03-21 17:51:32+00:00    1\n",
                            "2022-03-21 18:16:05+00:00    2\n",
                            "2022-03-21 18:16:20+00:00    1\n",
                            "2022-03-21 18:16:24+00:00    1\n",
                            "                            ..\n",
                            "2022-03-25 22:00:21+00:00    1\n",
                            "2022-03-25 22:08:31+00:00    1\n",
                            "2022-03-25 23:33:42+00:00    1\n",
                            "2022-03-25 23:47:40+00:00    1\n",
                            "2022-03-25 23:54:03+00:00    1\n",
                            "Length: 12615, dtype: int64"
                        ]
                    },
                    "metadata": {},
                    "execution_count": 41
                }
            ],
            "metadata": {}
        },
        {
            "cell_type": "code",
            "execution_count": 40,
            "source": [
                "import seaborn as sns\n",
                "sns.lineplot( x = \"datetime\",\n",
                "\t\t\ty = \"dt\",\n",
                "\t\t\tdata = data,\n",
                "\t\t\terr_style=\"bars\");\n"
            ],
            "outputs": [
                {
                    "output_type": "error",
                    "ename": "ValueError",
                    "evalue": "Could not interpret value `dt` for parameter `y`",
                    "traceback": [
                        "\u001b[0;31m---------------------------------------------------------------------------\u001b[0m",
                        "\u001b[0;31mValueError\u001b[0m                                Traceback (most recent call last)",
                        "\u001b[0;32m<ipython-input-40-d27d038d6b48>\u001b[0m in \u001b[0;36m<module>\u001b[0;34m\u001b[0m\n\u001b[1;32m      3\u001b[0m                         \u001b[0my\u001b[0m \u001b[0;34m=\u001b[0m \u001b[0;34m\"dt\"\u001b[0m\u001b[0;34m,\u001b[0m\u001b[0;34m\u001b[0m\u001b[0;34m\u001b[0m\u001b[0m\n\u001b[1;32m      4\u001b[0m                         \u001b[0mdata\u001b[0m \u001b[0;34m=\u001b[0m \u001b[0mdata\u001b[0m\u001b[0;34m,\u001b[0m\u001b[0;34m\u001b[0m\u001b[0;34m\u001b[0m\u001b[0m\n\u001b[0;32m----> 5\u001b[0;31m \t\t\terr_style=\"bars\");\n\u001b[0m",
                        "\u001b[0;32m/opt/miniconda3/envs/david_data/lib/python3.7/site-packages/seaborn/_decorators.py\u001b[0m in \u001b[0;36minner_f\u001b[0;34m(*args, **kwargs)\u001b[0m\n\u001b[1;32m     44\u001b[0m             )\n\u001b[1;32m     45\u001b[0m         \u001b[0mkwargs\u001b[0m\u001b[0;34m.\u001b[0m\u001b[0mupdate\u001b[0m\u001b[0;34m(\u001b[0m\u001b[0;34m{\u001b[0m\u001b[0mk\u001b[0m\u001b[0;34m:\u001b[0m \u001b[0marg\u001b[0m \u001b[0;32mfor\u001b[0m \u001b[0mk\u001b[0m\u001b[0;34m,\u001b[0m \u001b[0marg\u001b[0m \u001b[0;32min\u001b[0m \u001b[0mzip\u001b[0m\u001b[0;34m(\u001b[0m\u001b[0msig\u001b[0m\u001b[0;34m.\u001b[0m\u001b[0mparameters\u001b[0m\u001b[0;34m,\u001b[0m \u001b[0margs\u001b[0m\u001b[0;34m)\u001b[0m\u001b[0;34m}\u001b[0m\u001b[0;34m)\u001b[0m\u001b[0;34m\u001b[0m\u001b[0;34m\u001b[0m\u001b[0m\n\u001b[0;32m---> 46\u001b[0;31m         \u001b[0;32mreturn\u001b[0m \u001b[0mf\u001b[0m\u001b[0;34m(\u001b[0m\u001b[0;34m**\u001b[0m\u001b[0mkwargs\u001b[0m\u001b[0;34m)\u001b[0m\u001b[0;34m\u001b[0m\u001b[0;34m\u001b[0m\u001b[0m\n\u001b[0m\u001b[1;32m     47\u001b[0m     \u001b[0;32mreturn\u001b[0m \u001b[0minner_f\u001b[0m\u001b[0;34m\u001b[0m\u001b[0;34m\u001b[0m\u001b[0m\n\u001b[1;32m     48\u001b[0m \u001b[0;34m\u001b[0m\u001b[0m\n",
                        "\u001b[0;32m/opt/miniconda3/envs/david_data/lib/python3.7/site-packages/seaborn/relational.py\u001b[0m in \u001b[0;36mlineplot\u001b[0;34m(x, y, hue, size, style, data, palette, hue_order, hue_norm, sizes, size_order, size_norm, dashes, markers, style_order, units, estimator, ci, n_boot, seed, sort, err_style, err_kws, legend, ax, **kwargs)\u001b[0m\n\u001b[1;32m    679\u001b[0m         \u001b[0mdata\u001b[0m\u001b[0;34m=\u001b[0m\u001b[0mdata\u001b[0m\u001b[0;34m,\u001b[0m \u001b[0mvariables\u001b[0m\u001b[0;34m=\u001b[0m\u001b[0mvariables\u001b[0m\u001b[0;34m,\u001b[0m\u001b[0;34m\u001b[0m\u001b[0;34m\u001b[0m\u001b[0m\n\u001b[1;32m    680\u001b[0m         \u001b[0mestimator\u001b[0m\u001b[0;34m=\u001b[0m\u001b[0mestimator\u001b[0m\u001b[0;34m,\u001b[0m \u001b[0mci\u001b[0m\u001b[0;34m=\u001b[0m\u001b[0mci\u001b[0m\u001b[0;34m,\u001b[0m \u001b[0mn_boot\u001b[0m\u001b[0;34m=\u001b[0m\u001b[0mn_boot\u001b[0m\u001b[0;34m,\u001b[0m \u001b[0mseed\u001b[0m\u001b[0;34m=\u001b[0m\u001b[0mseed\u001b[0m\u001b[0;34m,\u001b[0m\u001b[0;34m\u001b[0m\u001b[0;34m\u001b[0m\u001b[0m\n\u001b[0;32m--> 681\u001b[0;31m         \u001b[0msort\u001b[0m\u001b[0;34m=\u001b[0m\u001b[0msort\u001b[0m\u001b[0;34m,\u001b[0m \u001b[0merr_style\u001b[0m\u001b[0;34m=\u001b[0m\u001b[0merr_style\u001b[0m\u001b[0;34m,\u001b[0m \u001b[0merr_kws\u001b[0m\u001b[0;34m=\u001b[0m\u001b[0merr_kws\u001b[0m\u001b[0;34m,\u001b[0m \u001b[0mlegend\u001b[0m\u001b[0;34m=\u001b[0m\u001b[0mlegend\u001b[0m\u001b[0;34m,\u001b[0m\u001b[0;34m\u001b[0m\u001b[0;34m\u001b[0m\u001b[0m\n\u001b[0m\u001b[1;32m    682\u001b[0m     )\n\u001b[1;32m    683\u001b[0m \u001b[0;34m\u001b[0m\u001b[0m\n",
                        "\u001b[0;32m/opt/miniconda3/envs/david_data/lib/python3.7/site-packages/seaborn/relational.py\u001b[0m in \u001b[0;36m__init__\u001b[0;34m(self, data, variables, estimator, ci, n_boot, seed, sort, err_style, err_kws, legend)\u001b[0m\n\u001b[1;32m    365\u001b[0m         )\n\u001b[1;32m    366\u001b[0m \u001b[0;34m\u001b[0m\u001b[0m\n\u001b[0;32m--> 367\u001b[0;31m         \u001b[0msuper\u001b[0m\u001b[0;34m(\u001b[0m\u001b[0;34m)\u001b[0m\u001b[0;34m.\u001b[0m\u001b[0m__init__\u001b[0m\u001b[0;34m(\u001b[0m\u001b[0mdata\u001b[0m\u001b[0;34m=\u001b[0m\u001b[0mdata\u001b[0m\u001b[0;34m,\u001b[0m \u001b[0mvariables\u001b[0m\u001b[0;34m=\u001b[0m\u001b[0mvariables\u001b[0m\u001b[0;34m)\u001b[0m\u001b[0;34m\u001b[0m\u001b[0;34m\u001b[0m\u001b[0m\n\u001b[0m\u001b[1;32m    368\u001b[0m \u001b[0;34m\u001b[0m\u001b[0m\n\u001b[1;32m    369\u001b[0m         \u001b[0mself\u001b[0m\u001b[0;34m.\u001b[0m\u001b[0mestimator\u001b[0m \u001b[0;34m=\u001b[0m \u001b[0mestimator\u001b[0m\u001b[0;34m\u001b[0m\u001b[0;34m\u001b[0m\u001b[0m\n",
                        "\u001b[0;32m/opt/miniconda3/envs/david_data/lib/python3.7/site-packages/seaborn/_core.py\u001b[0m in \u001b[0;36m__init__\u001b[0;34m(self, data, variables)\u001b[0m\n\u001b[1;32m    602\u001b[0m     \u001b[0;32mdef\u001b[0m \u001b[0m__init__\u001b[0m\u001b[0;34m(\u001b[0m\u001b[0mself\u001b[0m\u001b[0;34m,\u001b[0m \u001b[0mdata\u001b[0m\u001b[0;34m=\u001b[0m\u001b[0;32mNone\u001b[0m\u001b[0;34m,\u001b[0m \u001b[0mvariables\u001b[0m\u001b[0;34m=\u001b[0m\u001b[0;34m{\u001b[0m\u001b[0;34m}\u001b[0m\u001b[0;34m)\u001b[0m\u001b[0;34m:\u001b[0m\u001b[0;34m\u001b[0m\u001b[0;34m\u001b[0m\u001b[0m\n\u001b[1;32m    603\u001b[0m \u001b[0;34m\u001b[0m\u001b[0m\n\u001b[0;32m--> 604\u001b[0;31m         \u001b[0mself\u001b[0m\u001b[0;34m.\u001b[0m\u001b[0massign_variables\u001b[0m\u001b[0;34m(\u001b[0m\u001b[0mdata\u001b[0m\u001b[0;34m,\u001b[0m \u001b[0mvariables\u001b[0m\u001b[0;34m)\u001b[0m\u001b[0;34m\u001b[0m\u001b[0;34m\u001b[0m\u001b[0m\n\u001b[0m\u001b[1;32m    605\u001b[0m \u001b[0;34m\u001b[0m\u001b[0m\n\u001b[1;32m    606\u001b[0m         \u001b[0;32mfor\u001b[0m \u001b[0mvar\u001b[0m\u001b[0;34m,\u001b[0m \u001b[0mcls\u001b[0m \u001b[0;32min\u001b[0m \u001b[0mself\u001b[0m\u001b[0;34m.\u001b[0m\u001b[0m_semantic_mappings\u001b[0m\u001b[0;34m.\u001b[0m\u001b[0mitems\u001b[0m\u001b[0;34m(\u001b[0m\u001b[0;34m)\u001b[0m\u001b[0;34m:\u001b[0m\u001b[0;34m\u001b[0m\u001b[0;34m\u001b[0m\u001b[0m\n",
                        "\u001b[0;32m/opt/miniconda3/envs/david_data/lib/python3.7/site-packages/seaborn/_core.py\u001b[0m in \u001b[0;36massign_variables\u001b[0;34m(self, data, variables)\u001b[0m\n\u001b[1;32m    666\u001b[0m             \u001b[0mself\u001b[0m\u001b[0;34m.\u001b[0m\u001b[0minput_format\u001b[0m \u001b[0;34m=\u001b[0m \u001b[0;34m\"long\"\u001b[0m\u001b[0;34m\u001b[0m\u001b[0;34m\u001b[0m\u001b[0m\n\u001b[1;32m    667\u001b[0m             plot_data, variables = self._assign_variables_longform(\n\u001b[0;32m--> 668\u001b[0;31m                 \u001b[0mdata\u001b[0m\u001b[0;34m,\u001b[0m \u001b[0;34m**\u001b[0m\u001b[0mvariables\u001b[0m\u001b[0;34m,\u001b[0m\u001b[0;34m\u001b[0m\u001b[0;34m\u001b[0m\u001b[0m\n\u001b[0m\u001b[1;32m    669\u001b[0m             )\n\u001b[1;32m    670\u001b[0m \u001b[0;34m\u001b[0m\u001b[0m\n",
                        "\u001b[0;32m/opt/miniconda3/envs/david_data/lib/python3.7/site-packages/seaborn/_core.py\u001b[0m in \u001b[0;36m_assign_variables_longform\u001b[0;34m(self, data, **kwargs)\u001b[0m\n\u001b[1;32m    885\u001b[0m                     \u001b[0;31m# We don't know what this name means\u001b[0m\u001b[0;34m\u001b[0m\u001b[0;34m\u001b[0m\u001b[0;34m\u001b[0m\u001b[0m\n\u001b[1;32m    886\u001b[0m                     \u001b[0merr\u001b[0m \u001b[0;34m=\u001b[0m \u001b[0;34mf\"Could not interpret value `{val}` for parameter `{key}`\"\u001b[0m\u001b[0;34m\u001b[0m\u001b[0;34m\u001b[0m\u001b[0m\n\u001b[0;32m--> 887\u001b[0;31m                     \u001b[0;32mraise\u001b[0m \u001b[0mValueError\u001b[0m\u001b[0;34m(\u001b[0m\u001b[0merr\u001b[0m\u001b[0;34m)\u001b[0m\u001b[0;34m\u001b[0m\u001b[0;34m\u001b[0m\u001b[0m\n\u001b[0m\u001b[1;32m    888\u001b[0m \u001b[0;34m\u001b[0m\u001b[0m\n\u001b[1;32m    889\u001b[0m             \u001b[0;32melse\u001b[0m\u001b[0;34m:\u001b[0m\u001b[0;34m\u001b[0m\u001b[0;34m\u001b[0m\u001b[0m\n",
                        "\u001b[0;31mValueError\u001b[0m: Could not interpret value `dt` for parameter `y`"
                    ]
                }
            ],
            "metadata": {}
        },
        {
            "cell_type": "code",
            "execution_count": null,
            "source": [],
            "outputs": [],
            "metadata": {}
        }
    ],
    "metadata": {
        "orig_nbformat": 4,
        "language_info": {
            "name": "python",
            "version": "3.7.8",
            "mimetype": "text/x-python",
            "codemirror_mode": {
                "name": "ipython",
                "version": 3
            },
            "pygments_lexer": "ipython3",
            "nbconvert_exporter": "python",
            "file_extension": ".py"
        },
        "kernelspec": {
            "name": "python3",
            "display_name": "Python 3.7.8 64-bit ('david_data': conda)"
        },
        "interpreter": {
            "hash": "00ec0b894225f4f77677f22017bd62e253141dd908f387654297929909453b2d"
        }
    },
    "nbformat": 4,
    "nbformat_minor": 2
}
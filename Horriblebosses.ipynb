{
    "cells": [
        {
            "cell_type": "code",
            "execution_count": 2,
            "source": [
                "import pandas as pd"
            ],
            "outputs": [],
            "metadata": {}
        },
        {
            "cell_type": "code",
            "execution_count": 3,
            "source": [
                "# Imports\n",
                "import snscrape.modules.twitter as sntwitter\n",
                "import pandas as pd"
            ],
            "outputs": [],
            "metadata": {}
        },
        {
            "cell_type": "code",
            "execution_count": 4,
            "source": [
                "# Setting variables to be used below\n",
                "maxTweets = 500000\n",
                "\n",
                "# Creating list to append tweet data to\n",
                "tweets_list = []\n",
                "\n",
                "# Using TwitterSearchScraper to scrape data and append tweets to list\n",
                "for i,tweet in enumerate(sntwitter.TwitterSearchScraper('horribleBosses since:2022-03-21 until:2022-03-26').get_items()):\n",
                "    if i>maxTweets:\n",
                "        break\n",
                "    tweets_list.append([tweet.date, tweet.id, tweet.content, tweet.username])"
            ],
            "outputs": [],
            "metadata": {}
        },
        {
            "cell_type": "code",
            "execution_count": 5,
            "source": [
                " #Creating a dataframe from the tweets list above\n",
                "#\n",
                "df = pd.DataFrame(tweets_list, columns=['datetime', 'tweet_Id', 'text', 'Username'])\n",
                "\n",
                "# Display first 5 entries from dataframe\n",
                "df.head()"
            ],
            "outputs": [
                {
                    "output_type": "execute_result",
                    "data": {
                        "text/plain": [
                            "                   datetime             tweet_Id  \\\n",
                            "0 2022-03-25 23:54:03+00:00  1507506125511573509   \n",
                            "1 2022-03-25 23:47:40+00:00  1507504519713898500   \n",
                            "2 2022-03-25 23:33:42+00:00  1507501004841009154   \n",
                            "3 2022-03-25 22:08:31+00:00  1507479568986353665   \n",
                            "4 2022-03-25 22:00:21+00:00  1507477515757101057   \n",
                            "\n",
                            "                                                text         Username  \n",
                            "0  #HorribleBosses: Entertainers called out too h...  CelebrityGigMag  \n",
                            "1  #HorribleBosses VS #Annoyingemployees ..which ...       sheyyishay  \n",
                            "2  Since Super Eagles didn’t impress us tonight, ...       heisrahman  \n",
                            "3  #ethereum #XMR  #Bolckchain  @HorribleBosses h...    Bakarehorlami  \n",
                            "4  AZOV is synonymous with #HorribleBosses https:...    MyHeartlandia  "
                        ],
                        "text/html": [
                            "<div>\n",
                            "<style scoped>\n",
                            "    .dataframe tbody tr th:only-of-type {\n",
                            "        vertical-align: middle;\n",
                            "    }\n",
                            "\n",
                            "    .dataframe tbody tr th {\n",
                            "        vertical-align: top;\n",
                            "    }\n",
                            "\n",
                            "    .dataframe thead th {\n",
                            "        text-align: right;\n",
                            "    }\n",
                            "</style>\n",
                            "<table border=\"1\" class=\"dataframe\">\n",
                            "  <thead>\n",
                            "    <tr style=\"text-align: right;\">\n",
                            "      <th></th>\n",
                            "      <th>datetime</th>\n",
                            "      <th>tweet_Id</th>\n",
                            "      <th>text</th>\n",
                            "      <th>Username</th>\n",
                            "    </tr>\n",
                            "  </thead>\n",
                            "  <tbody>\n",
                            "    <tr>\n",
                            "      <th>0</th>\n",
                            "      <td>2022-03-25 23:54:03+00:00</td>\n",
                            "      <td>1507506125511573509</td>\n",
                            "      <td>#HorribleBosses: Entertainers called out too h...</td>\n",
                            "      <td>CelebrityGigMag</td>\n",
                            "    </tr>\n",
                            "    <tr>\n",
                            "      <th>1</th>\n",
                            "      <td>2022-03-25 23:47:40+00:00</td>\n",
                            "      <td>1507504519713898500</td>\n",
                            "      <td>#HorribleBosses VS #Annoyingemployees ..which ...</td>\n",
                            "      <td>sheyyishay</td>\n",
                            "    </tr>\n",
                            "    <tr>\n",
                            "      <th>2</th>\n",
                            "      <td>2022-03-25 23:33:42+00:00</td>\n",
                            "      <td>1507501004841009154</td>\n",
                            "      <td>Since Super Eagles didn’t impress us tonight, ...</td>\n",
                            "      <td>heisrahman</td>\n",
                            "    </tr>\n",
                            "    <tr>\n",
                            "      <th>3</th>\n",
                            "      <td>2022-03-25 22:08:31+00:00</td>\n",
                            "      <td>1507479568986353665</td>\n",
                            "      <td>#ethereum #XMR  #Bolckchain  @HorribleBosses h...</td>\n",
                            "      <td>Bakarehorlami</td>\n",
                            "    </tr>\n",
                            "    <tr>\n",
                            "      <th>4</th>\n",
                            "      <td>2022-03-25 22:00:21+00:00</td>\n",
                            "      <td>1507477515757101057</td>\n",
                            "      <td>AZOV is synonymous with #HorribleBosses https:...</td>\n",
                            "      <td>MyHeartlandia</td>\n",
                            "    </tr>\n",
                            "  </tbody>\n",
                            "</table>\n",
                            "</div>"
                        ]
                    },
                    "metadata": {},
                    "execution_count": 5
                }
            ],
            "metadata": {}
        },
        {
            "cell_type": "code",
            "execution_count": 8,
            "source": [
                "df.to_csv('tweets.csv')"
            ],
            "outputs": [],
            "metadata": {}
        },
        {
            "cell_type": "code",
            "execution_count": 9,
            "source": [
                "data =pd.read_csv('tweets.csv')"
            ],
            "outputs": [],
            "metadata": {}
        },
        {
            "cell_type": "code",
            "execution_count": 14,
            "source": [
                "data.shape"
            ],
            "outputs": [
                {
                    "output_type": "execute_result",
                    "data": {
                        "text/plain": [
                            "(14678, 5)"
                        ]
                    },
                    "metadata": {},
                    "execution_count": 14
                }
            ],
            "metadata": {}
        },
        {
            "cell_type": "code",
            "execution_count": 10,
            "source": [
                "data.head()"
            ],
            "outputs": [
                {
                    "output_type": "execute_result",
                    "data": {
                        "text/plain": [
                            "   Unnamed: 0                   datetime             tweet_Id  \\\n",
                            "0           0  2022-03-25 23:54:03+00:00  1507506125511573509   \n",
                            "1           1  2022-03-25 23:47:40+00:00  1507504519713898500   \n",
                            "2           2  2022-03-25 23:33:42+00:00  1507501004841009154   \n",
                            "3           3  2022-03-25 22:08:31+00:00  1507479568986353665   \n",
                            "4           4  2022-03-25 22:00:21+00:00  1507477515757101057   \n",
                            "\n",
                            "                                                text         Username  \n",
                            "0  #HorribleBosses: Entertainers called out too h...  CelebrityGigMag  \n",
                            "1  #HorribleBosses VS #Annoyingemployees ..which ...       sheyyishay  \n",
                            "2  Since Super Eagles didn’t impress us tonight, ...       heisrahman  \n",
                            "3  #ethereum #XMR  #Bolckchain  @HorribleBosses h...    Bakarehorlami  \n",
                            "4  AZOV is synonymous with #HorribleBosses https:...    MyHeartlandia  "
                        ],
                        "text/html": [
                            "<div>\n",
                            "<style scoped>\n",
                            "    .dataframe tbody tr th:only-of-type {\n",
                            "        vertical-align: middle;\n",
                            "    }\n",
                            "\n",
                            "    .dataframe tbody tr th {\n",
                            "        vertical-align: top;\n",
                            "    }\n",
                            "\n",
                            "    .dataframe thead th {\n",
                            "        text-align: right;\n",
                            "    }\n",
                            "</style>\n",
                            "<table border=\"1\" class=\"dataframe\">\n",
                            "  <thead>\n",
                            "    <tr style=\"text-align: right;\">\n",
                            "      <th></th>\n",
                            "      <th>Unnamed: 0</th>\n",
                            "      <th>datetime</th>\n",
                            "      <th>tweet_Id</th>\n",
                            "      <th>text</th>\n",
                            "      <th>Username</th>\n",
                            "    </tr>\n",
                            "  </thead>\n",
                            "  <tbody>\n",
                            "    <tr>\n",
                            "      <th>0</th>\n",
                            "      <td>0</td>\n",
                            "      <td>2022-03-25 23:54:03+00:00</td>\n",
                            "      <td>1507506125511573509</td>\n",
                            "      <td>#HorribleBosses: Entertainers called out too h...</td>\n",
                            "      <td>CelebrityGigMag</td>\n",
                            "    </tr>\n",
                            "    <tr>\n",
                            "      <th>1</th>\n",
                            "      <td>1</td>\n",
                            "      <td>2022-03-25 23:47:40+00:00</td>\n",
                            "      <td>1507504519713898500</td>\n",
                            "      <td>#HorribleBosses VS #Annoyingemployees ..which ...</td>\n",
                            "      <td>sheyyishay</td>\n",
                            "    </tr>\n",
                            "    <tr>\n",
                            "      <th>2</th>\n",
                            "      <td>2</td>\n",
                            "      <td>2022-03-25 23:33:42+00:00</td>\n",
                            "      <td>1507501004841009154</td>\n",
                            "      <td>Since Super Eagles didn’t impress us tonight, ...</td>\n",
                            "      <td>heisrahman</td>\n",
                            "    </tr>\n",
                            "    <tr>\n",
                            "      <th>3</th>\n",
                            "      <td>3</td>\n",
                            "      <td>2022-03-25 22:08:31+00:00</td>\n",
                            "      <td>1507479568986353665</td>\n",
                            "      <td>#ethereum #XMR  #Bolckchain  @HorribleBosses h...</td>\n",
                            "      <td>Bakarehorlami</td>\n",
                            "    </tr>\n",
                            "    <tr>\n",
                            "      <th>4</th>\n",
                            "      <td>4</td>\n",
                            "      <td>2022-03-25 22:00:21+00:00</td>\n",
                            "      <td>1507477515757101057</td>\n",
                            "      <td>AZOV is synonymous with #HorribleBosses https:...</td>\n",
                            "      <td>MyHeartlandia</td>\n",
                            "    </tr>\n",
                            "  </tbody>\n",
                            "</table>\n",
                            "</div>"
                        ]
                    },
                    "metadata": {},
                    "execution_count": 10
                }
            ],
            "metadata": {}
        },
        {
            "cell_type": "code",
            "execution_count": 11,
            "source": [
                "#checking for a retweet by checking if any tweet id is duplicated. \n",
                "data.tweet_Id.unique"
            ],
            "outputs": [
                {
                    "output_type": "execute_result",
                    "data": {
                        "text/plain": [
                            "<bound method Series.unique of 0        1507506125511573509\n",
                            "1        1507504519713898500\n",
                            "2        1507501004841009154\n",
                            "3        1507479568986353665\n",
                            "4        1507477515757101057\n",
                            "                ...         \n",
                            "14673    1505971585882148870\n",
                            "14674    1505971524544700419\n",
                            "14675    1505971521826824196\n",
                            "14676    1505965343533109254\n",
                            "14677    1505699666201128960\n",
                            "Name: tweet_Id, Length: 14678, dtype: int64>"
                        ]
                    },
                    "metadata": {},
                    "execution_count": 11
                }
            ],
            "metadata": {}
        },
        {
            "cell_type": "code",
            "execution_count": 17,
            "source": [
                "data.Username"
            ],
            "outputs": [
                {
                    "output_type": "execute_result",
                    "data": {
                        "text/plain": [
                            "0        CelebrityGigMag\n",
                            "1             sheyyishay\n",
                            "2             heisrahman\n",
                            "3          Bakarehorlami\n",
                            "4          MyHeartlandia\n",
                            "              ...       \n",
                            "14673          jerre_jay\n",
                            "14674         binitsa_de\n",
                            "14675      Adeoluwajoju_\n",
                            "14676           kosslaww\n",
                            "14677      forrestsaysit\n",
                            "Name: Username, Length: 14678, dtype: object"
                        ]
                    },
                    "metadata": {},
                    "execution_count": 17
                }
            ],
            "metadata": {}
        },
        {
            "cell_type": "code",
            "execution_count": null,
            "source": [],
            "outputs": [],
            "metadata": {}
        }
    ],
    "metadata": {
        "orig_nbformat": 4,
        "language_info": {
            "name": "python",
            "version": "3.7.8",
            "mimetype": "text/x-python",
            "codemirror_mode": {
                "name": "ipython",
                "version": 3
            },
            "pygments_lexer": "ipython3",
            "nbconvert_exporter": "python",
            "file_extension": ".py"
        },
        "kernelspec": {
            "name": "python3",
            "display_name": "Python 3.7.8 64-bit ('david_data': conda)"
        },
        "interpreter": {
            "hash": "00ec0b894225f4f77677f22017bd62e253141dd908f387654297929909453b2d"
        }
    },
    "nbformat": 4,
    "nbformat_minor": 2
}